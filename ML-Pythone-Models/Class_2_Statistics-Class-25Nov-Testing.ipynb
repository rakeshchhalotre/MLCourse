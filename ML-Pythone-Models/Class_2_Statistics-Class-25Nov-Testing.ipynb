{
 "cells": [
  {
   "cell_type": "markdown",
   "metadata": {},
   "source": [
    "### Mesure of central Tendancy"
   ]
  },
  {
   "cell_type": "code",
   "execution_count": 4,
   "metadata": {},
   "outputs": [],
   "source": [
    "# from scipy import stats\n",
    "import scipy"
   ]
  },
  {
   "cell_type": "code",
   "execution_count": 8,
   "metadata": {},
   "outputs": [],
   "source": [
    "org_a = [80, 100, 120, 150, 23, 80, 55, 50, 90 ]\n",
    "org_b = [58, 55, 40, 70, 23, 70, 65, 20, 100 ]"
   ]
  },
  {
   "cell_type": "code",
   "execution_count": 9,
   "metadata": {},
   "outputs": [
    {
     "name": "stdout",
     "output_type": "stream",
     "text": [
      "83.11111111111111\n",
      "55.666666666666664\n"
     ]
    }
   ],
   "source": [
    "# mean => average\n",
    "\n",
    "print(scipy.mean(org_a))\n",
    "print(scipy.mean(org_b))"
   ]
  },
  {
   "cell_type": "code",
   "execution_count": 10,
   "metadata": {},
   "outputs": [
    {
     "name": "stdout",
     "output_type": "stream",
     "text": [
      "83.11111111111111\n",
      "155.66666666666666\n"
     ]
    }
   ],
   "source": [
    "org_b = [58, 55, 40, 70, 23, 70, 65, 20, 1000 ]\n",
    "\n",
    "print(scipy.mean(org_a))\n",
    "print(scipy.mean(org_b))"
   ]
  },
  {
   "cell_type": "code",
   "execution_count": 11,
   "metadata": {},
   "outputs": [
    {
     "name": "stdout",
     "output_type": "stream",
     "text": [
      "80.0\n",
      "58.0\n"
     ]
    }
   ],
   "source": [
    "# Median => middle value of the list \n",
    "\n",
    "print(scipy.median(org_a))\n",
    "print(scipy.median(org_b))\n",
    "\n",
    "#print(scipy.mod(org_b))"
   ]
  },
  {
   "cell_type": "code",
   "execution_count": 12,
   "metadata": {},
   "outputs": [],
   "source": [
    "# Mode\n",
    "#ModeResult(mode=median(org_a))"
   ]
  },
  {
   "cell_type": "code",
   "execution_count": 13,
   "metadata": {},
   "outputs": [
    {
     "name": "stdout",
     "output_type": "stream",
     "text": [
      "14.857142857142858\n",
      "14.0\n"
     ]
    }
   ],
   "source": [
    "# Scheduled train arrival 3 PM data is delay time \n",
    "\n",
    "delay1 = [15, 14, 16, 17, 13, 14, 15]\n",
    "delay2 = [5, 18, 13, 14, 17, 16, 15]\n",
    "\n",
    "\n",
    "print(scipy.mean(delay1))\n",
    "print(scipy.mean(delay2))"
   ]
  },
  {
   "cell_type": "code",
   "execution_count": 14,
   "metadata": {},
   "outputs": [
    {
     "name": "stdout",
     "output_type": "stream",
     "text": [
      "4\n",
      "13\n"
     ]
    }
   ],
   "source": [
    "# Range \n",
    "# range -> max - min\n",
    "\n",
    "print(max(delay1) - min(delay1))\n",
    "print(max(delay2) - min(delay2))\n"
   ]
  },
  {
   "cell_type": "code",
   "execution_count": 19,
   "metadata": {},
   "outputs": [
    {
     "name": "stdout",
     "output_type": "stream",
     "text": [
      "1.2453996981544782\n",
      "4.0\n"
     ]
    }
   ],
   "source": [
    "## Standerd Deviaiton\n",
    "## less deviation is alwasys better and preferable\n",
    "\n",
    "print(scipy.std(delay1))\n",
    "print(scipy.std(delay2)) "
   ]
  },
  {
   "cell_type": "code",
   "execution_count": 21,
   "metadata": {},
   "outputs": [],
   "source": [
    "# for graphs\n",
    "\n",
    "import seaborn as sb"
   ]
  },
  {
   "cell_type": "code",
   "execution_count": 22,
   "metadata": {},
   "outputs": [
    {
     "name": "stderr",
     "output_type": "stream",
     "text": [
      "C:\\Users\\rakchh\\AppData\\Local\\Continuum\\anaconda3\\lib\\site-packages\\scipy\\stats\\stats.py:1713: FutureWarning: Using a non-tuple sequence for multidimensional indexing is deprecated; use `arr[tuple(seq)]` instead of `arr[seq]`. In the future this will be interpreted as an array index, `arr[np.array(seq)]`, which will result either in an error or a different result.\n",
      "  return np.add.reduce(sorted[indexer] * weights, axis=axis) / sumval\n"
     ]
    },
    {
     "data": {
      "text/plain": [
       "<matplotlib.axes._subplots.AxesSubplot at 0xa663940>"
      ]
     },
     "execution_count": 22,
     "metadata": {},
     "output_type": "execute_result"
    },
    {
     "data": {
      "image/png": "[encoded data removed]",
      "text/plain": [
       "<Figure size 432x288 with 1 Axes>"
      ]
     },
     "metadata": {
      "needs_background": "light"
     },
     "output_type": "display_data"
    }
   ],
   "source": [
    "%matplotlib inline\n",
    "sb.distplot(org_a)\n"
   ]
  },
  {
   "cell_type": "markdown",
   "metadata": {},
   "source": [
    "### Mesure of central Tendancy\n",
    "### if    -1.96 < skew value < +1.96 ( practically -1 <S < +1) to qualify as Normal"
   ]
  },
  {
   "cell_type": "code",
   "execution_count": 23,
   "metadata": {},
   "outputs": [
    {
     "name": "stdout",
     "output_type": "stream",
     "text": [
      "[80, 100, 120, 150, 23, 80, 55, 50, 90]\n"
     ]
    },
    {
     "data": {
      "text/plain": [
       "0.18719011387150952"
      ]
     },
     "execution_count": 23,
     "metadata": {},
     "output_type": "execute_result"
    }
   ],
   "source": [
    "print(org_a)\n",
    "scipy.stats.skew(org_a)"
   ]
  },
  {
   "cell_type": "code",
   "execution_count": 24,
   "metadata": {},
   "outputs": [
    {
     "data": {
      "text/plain": [
       "-1.847729536890978"
      ]
     },
     "execution_count": 24,
     "metadata": {},
     "output_type": "execute_result"
    }
   ],
   "source": [
    "aas = [2,30,42,43,44,44,46,45]\n",
    "scipy.stats.skew(aas)"
   ]
  },
  {
   "cell_type": "code",
   "execution_count": 25,
   "metadata": {},
   "outputs": [
    {
     "data": {
      "text/plain": [
       "1.8439320976330287"
      ]
     },
     "execution_count": 25,
     "metadata": {},
     "output_type": "execute_result"
    }
   ],
   "source": [
    "aas = [3,4,3,4,3,3,4,12,23]\n",
    "scipy.stats.skew(aas)"
   ]
  },
  {
   "cell_type": "markdown",
   "metadata": {},
   "source": [
    "### Kurtosis  if    -1.96 < kurtosis value < +1.96 ( practically -1 <K < +1) to qualify as Normal"
   ]
  },
  {
   "cell_type": "code",
   "execution_count": 26,
   "metadata": {},
   "outputs": [
    {
     "name": "stderr",
     "output_type": "stream",
     "text": [
      "C:\\Users\\rakchh\\AppData\\Local\\Continuum\\anaconda3\\lib\\site-packages\\scipy\\stats\\stats.py:1713: FutureWarning: Using a non-tuple sequence for multidimensional indexing is deprecated; use `arr[tuple(seq)]` instead of `arr[seq]`. In the future this will be interpreted as an array index, `arr[np.array(seq)]`, which will result either in an error or a different result.\n",
      "  return np.add.reduce(sorted[indexer] * weights, axis=axis) / sumval\n"
     ]
    },
    {
     "data": {
      "text/plain": [
       "<matplotlib.axes._subplots.AxesSubplot at 0xa6c7978>"
      ]
     },
     "execution_count": 26,
     "metadata": {},
     "output_type": "execute_result"
    },
    {
     "data": {
      "image/png": "[encoded data removed]",
      "text/plain": [
       "<Figure size 432x288 with 1 Axes>"
      ]
     },
     "metadata": {
      "needs_background": "light"
     },
     "output_type": "display_data"
    }
   ],
   "source": [
    "b=[1,2,3,5,6,7,8,7,7,8,8,8,9,9,10,10,11,12]\n",
    "scipy.stats.kurtosis(b)\n",
    "sb.distplot(b)"
   ]
  },
  {
   "cell_type": "markdown",
   "metadata": {},
   "source": [
    "## Hypothesis Testing"
   ]
  },
  {
   "cell_type": "markdown",
   "metadata": {},
   "source": [
    "#### Marriage age in bangalore is 30 , We take 30 as Hypothesized Mean\n",
    "#### H0 (null Hypothesis) = Marriage age of IT Professional Male Bangalore is 30\n",
    "#### Ha (alternate Hypothesis)= Marriage age of IT Professional Male Bangalore is NOT 30"
   ]
  },
  {
   "cell_type": "code",
   "execution_count": 38,
   "metadata": {},
   "outputs": [
    {
     "name": "stdout",
     "output_type": "stream",
     "text": [
      "32.666666666666664\n"
     ]
    }
   ],
   "source": [
    "ban_mar = [28,33,29,33,24,39,34,40,34]  \n",
    "\n",
    "print(scipy.mean(ban_mar))"
   ]
  },
  {
   "cell_type": "markdown",
   "metadata": {},
   "source": [
    "## One Sample T-Test"
   ]
  },
  {
   "cell_type": "code",
   "execution_count": 28,
   "metadata": {},
   "outputs": [
    {
     "data": {
      "text/plain": [
       "Ttest_1sampResult(statistic=1.5689290811054708, pvalue=0.15530291816740033)"
      ]
     },
     "execution_count": 28,
     "metadata": {},
     "output_type": "execute_result"
    }
   ],
   "source": [
    "scipy.stats.ttest_1samp(ban_mar,30)"
   ]
  },
  {
   "cell_type": "markdown",
   "metadata": {},
   "source": [
    "### t-value = 1.5 and P-value(probability) =15%"
   ]
  },
  {
   "cell_type": "markdown",
   "metadata": {},
   "source": [
    "## If P < 5%, Reject H0 and Accept Ha\n",
    "## If P > 5%, Accept H0"
   ]
  },
  {
   "cell_type": "markdown",
   "metadata": {},
   "source": [
    "## Goal is to REJECT H0, so that we can make strong statement\n",
    "\n",
    "## : Here as P value is 15% , we can Accept H0"
   ]
  },
  {
   "cell_type": "markdown",
   "metadata": {},
   "source": [
    "# -:Two sample:-\n",
    "# -Independent T-Test"
   ]
  },
  {
   "cell_type": "code",
   "execution_count": 29,
   "metadata": {},
   "outputs": [],
   "source": [
    "ban_mar = [28,33,29,34,24,39,34,40,34]\n",
    "che_mar = [25,27,26,28,29,32,28,26,27,28]\n"
   ]
  },
  {
   "cell_type": "code",
   "execution_count": 30,
   "metadata": {},
   "outputs": [
    {
     "name": "stdout",
     "output_type": "stream",
     "text": [
      "-0.2138076380994841\n",
      "-0.7685828153869156\n",
      "0.9704949588309435\n",
      "0.6995673336938864\n"
     ]
    }
   ],
   "source": [
    "print(scipy.stats.skew(ban_mar))\n",
    "print(scipy.stats.kurtosis(ban_mar))\n",
    "print(scipy.stats.skew(che_mar))\n",
    "print(scipy.stats.kurtosis(che_mar))\n",
    "\n",
    "## skew and kurtosis test needs to be pass then only we should go for T-Test"
   ]
  },
  {
   "cell_type": "markdown",
   "metadata": {},
   "source": [
    "## H0 = Marriage are of IT Prof Male Bangalore is same as in chennai\n",
    "## H1= Marriage are of IT Prof Male Bangalore is NOT same as in chennai"
   ]
  },
  {
   "cell_type": "code",
   "execution_count": 31,
   "metadata": {},
   "outputs": [
    {
     "data": {
      "text/plain": [
       "Ttest_indResult(statistic=2.9747944724954483, pvalue=0.00849906220618438)"
      ]
     },
     "execution_count": 31,
     "metadata": {},
     "output_type": "execute_result"
    }
   ],
   "source": [
    "scipy.stats.ttest_ind(ban_mar,che_mar)"
   ]
  },
  {
   "cell_type": "markdown",
   "metadata": {},
   "source": [
    "## P = .8%, which is less than 5%, REJECT H0\n",
    "\n",
    "## Marriage age of Bangalore and Chennai IT prof Male are NOT SAME"
   ]
  },
  {
   "cell_type": "markdown",
   "metadata": {},
   "source": [
    "# -Relation T-Test"
   ]
  },
  {
   "cell_type": "code",
   "execution_count": 32,
   "metadata": {},
   "outputs": [],
   "source": [
    "res_time_before_RedBull = [23,40,28,59,23] # in centi second\n",
    "res_time_after_RedBull = [13,20,16,28,13] # in centi second\n",
    "\n",
    "# Number of counts must be same in both list\n",
    "# this is one to one mapping "
   ]
  },
  {
   "cell_type": "code",
   "execution_count": 33,
   "metadata": {},
   "outputs": [
    {
     "name": "stdout",
     "output_type": "stream",
     "text": [
      "0.8787221869627447\n",
      "-0.7604778556880416\n",
      "0.8444241301006566\n",
      "-0.7403460983816696\n"
     ]
    }
   ],
   "source": [
    "print(scipy.stats.skew(res_time_before_RedBull))\n",
    "print(scipy.stats.kurtosis(res_time_before_RedBull))\n",
    "print(scipy.stats.skew(res_time_after_RedBull))\n",
    "print(scipy.stats.kurtosis(res_time_after_RedBull))"
   ]
  },
  {
   "cell_type": "markdown",
   "metadata": {},
   "source": [
    "## H0 = Rest time before and after RedBull are same\n",
    "## H0 = Rest time before and after RedBull are NOT same"
   ]
  },
  {
   "cell_type": "code",
   "execution_count": 34,
   "metadata": {},
   "outputs": [
    {
     "data": {
      "text/plain": [
       "Ttest_relResult(statistic=4.1040858644034355, pvalue=0.014803501298293326)"
      ]
     },
     "execution_count": 34,
     "metadata": {},
     "output_type": "execute_result"
    }
   ],
   "source": [
    "scipy.stats.ttest_rel(res_time_before_RedBull,res_time_after_RedBull)"
   ]
  },
  {
   "cell_type": "markdown",
   "metadata": {},
   "source": [
    "## P = 1.4%, which is < 5%, REJECTED H0\n",
    "## ACCEPT Ha, mean Res time are not same, ==> RedBUll has affect"
   ]
  },
  {
   "cell_type": "markdown",
   "metadata": {},
   "source": [
    "# -One Way Anova Test-"
   ]
  },
  {
   "cell_type": "code",
   "execution_count": 35,
   "metadata": {},
   "outputs": [],
   "source": [
    "lemon = [36,32,28,23,27,23]\n",
    "coffee = [23,26,28,20,18,21]\n",
    "RedBull = [18,12,10,12,11,13]"
   ]
  },
  {
   "cell_type": "markdown",
   "metadata": {},
   "source": [
    "## H0 = Lemon, Coffee, RB responce time are same\n",
    "## Ha = Lemon, Coffee, RB responce time are NOT same\n"
   ]
  },
  {
   "cell_type": "code",
   "execution_count": 36,
   "metadata": {},
   "outputs": [
    {
     "data": {
      "text/plain": [
       "F_onewayResult(statistic=23.01242236024846, pvalue=2.687721839800863e-05)"
      ]
     },
     "execution_count": 36,
     "metadata": {},
     "output_type": "execute_result"
    }
   ],
   "source": [
    "scipy.stats.f_oneway(lemon,coffee,RedBull)"
   ]
  },
  {
   "cell_type": "markdown",
   "metadata": {},
   "source": [
    "### P = 0.000026, <5%, REJECTED H0\n",
    "## ACCEPT Ha, Response time are not same , DRINKS have Affect"
   ]
  },
  {
   "cell_type": "code",
   "execution_count": null,
   "metadata": {},
   "outputs": [],
   "source": []
  },
  {
   "cell_type": "code",
   "execution_count": null,
   "metadata": {},
   "outputs": [],
   "source": []
  },
  {
   "cell_type": "code",
   "execution_count": null,
   "metadata": {},
   "outputs": [],
   "source": []
  },
  {
   "cell_type": "code",
   "execution_count": null,
   "metadata": {},
   "outputs": [],
   "source": []
  }
 ],
 "metadata": {
  "kernelspec": {
   "display_name": "Python 3",
   "language": "python",
   "name": "python3"
  },
  "language_info": {
   "codemirror_mode": {
    "name": "ipython",
    "version": 3
   },
   "file_extension": ".py",
   "mimetype": "text/x-python",
   "name": "python",
   "nbconvert_exporter": "python",
   "pygments_lexer": "ipython3",
   "version": "3.7.0"
  }
 },
 "nbformat": 4,
 "nbformat_minor": 2
}

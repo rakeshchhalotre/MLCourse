{
 "cells": [
  {
   "cell_type": "markdown",
   "metadata": {},
   "source": [
    "# NUMPHY (Numerical Phython) Tutorial"
   ]
  },
  {
   "cell_type": "code",
   "execution_count": 2,
   "metadata": {},
   "outputs": [],
   "source": [
    "import numpy as np"
   ]
  },
  {
   "cell_type": "markdown",
   "metadata": {},
   "source": [
    "# Array\n",
    "### Array are Homogeneous ( It can have only one type on values), Automatic convert to higher type\n",
    "### Can't have inconsistent elements numbers( for two dimension array all array must have same number of elements\n"
   ]
  },
  {
   "cell_type": "code",
   "execution_count": 3,
   "metadata": {},
   "outputs": [
    {
     "name": "stdout",
     "output_type": "stream",
     "text": [
      "[1 2 3 4 4 5 5 5 9]\n",
      "1\n",
      "Array:  [1 2 3 4 4 5 5 5 9]\n",
      "N-Dimension :  1\n",
      "Array-Shape (9,)\n",
      "Size :  9\n",
      "Element Data Type:  int32\n",
      "Data Type:  <class 'numpy.ndarray'>\n"
     ]
    }
   ],
   "source": [
    "\n",
    "# One dimension Array\n",
    "\n",
    "a = np.array([1,2,3,4,4,5,5,5,9])\n",
    "a\n",
    "print(a)\n",
    "print(a.ndim)\n",
    "print(\"Array: \", a )\n",
    "print(\"N-Dimension : \", a.ndim)\n",
    "print(\"Array-Shape\", a.shape)\n",
    "print(\"Size : \", a.size)\n",
    "print(\"Element Data Type: \" , a.dtype)\n",
    "print(\"Data Type: \", type(a))\n"
   ]
  },
  {
   "cell_type": "code",
   "execution_count": null,
   "metadata": {},
   "outputs": [],
   "source": []
  },
  {
   "cell_type": "code",
   "execution_count": 4,
   "metadata": {},
   "outputs": [
    {
     "name": "stdout",
     "output_type": "stream",
     "text": [
      "[[1 2 5 6]\n",
      " [1 3 5 9]]\n",
      "Array:  [[1 2 5 6]\n",
      " [1 3 5 9]]\n",
      "N-Dimension :  2\n",
      "Array-Shape (2, 4)\n",
      "Size :  8\n",
      "Element Data Type:  int32\n",
      "Data Type:  <class 'numpy.ndarray'>\n"
     ]
    }
   ],
   "source": [
    "# Two Dimension Array\n",
    "a = np.array([\n",
    "              [1,2,5,6],\n",
    "              [1,3,5,9]\n",
    "             ])\n",
    "a\n",
    "print(a)\n",
    "print(\"Array: \", a )\n",
    "print(\"N-Dimension : \", a.ndim)\n",
    "print(\"Array-Shape\", a.shape)\n",
    "print(\"Size : \", a.size)\n",
    "print(\"Element Data Type: \" , a.dtype)\n",
    "print(\"Data Type: \", type(a))\n"
   ]
  },
  {
   "cell_type": "code",
   "execution_count": 5,
   "metadata": {},
   "outputs": [
    {
     "data": {
      "text/plain": [
       "numpy.ndarray"
      ]
     },
     "execution_count": 5,
     "metadata": {},
     "output_type": "execute_result"
    }
   ],
   "source": [
    "### Array are Homogeneous ( It can have only one type on values), Automatic convert to higher type\n",
    "\n",
    "aa = np.array([1,2,3,4,4,5,5,5,9])\n",
    "aa.dtype\n",
    "\n",
    "\n",
    "aa = np.array([1,2,3,4,4,5,5,5,'Rakesh'])\n",
    "type(aa)\n",
    "\n",
    "### Can't have inconsistent elements numbers( for two dimension array all array must have same number of elements\n",
    "#a = np.array([\n",
    "#              [1,2,5,6],\n",
    "#              [1,3,5,9,4,6]\n",
    "#             ])\n",
    "#a\n",
    "#print(\"N-Dimension : \", a.ndim)"
   ]
  },
  {
   "cell_type": "markdown",
   "metadata": {},
   "source": [
    "# 3 Dimension Array"
   ]
  },
  {
   "cell_type": "code",
   "execution_count": 6,
   "metadata": {
    "scrolled": true
   },
   "outputs": [
    {
     "name": "stdout",
     "output_type": "stream",
     "text": [
      "Array: \n",
      " [[[1 2 5 6]\n",
      "  [1 3 5 9]\n",
      "  [2 2 5 9]]\n",
      "\n",
      " [[1 4 2 6]\n",
      "  [1 3 8 3]\n",
      "  [8 5 5 9]]]\n",
      "N-Dimension :  3\n",
      "Array-Shape (2, 3, 4)\n",
      "Size :  24\n",
      "Element Data Type:  int32\n",
      "Data Type:  <class 'numpy.ndarray'>\n"
     ]
    }
   ],
   "source": [
    "# Two Dimension Array\n",
    "a = np.array([\n",
    "              [\n",
    "                [1,2,5,6],[1,3,5,9],[2,2,5,9]\n",
    "              ],\n",
    "              [\n",
    "                [1,4,2,6], [1,3,8,3],[8,5,5,9]\n",
    "              ]\n",
    "             ])\n",
    "print(\"Array: \\n\", a )\n",
    "print(\"N-Dimension : \", a.ndim)\n",
    "print(\"Array-Shape\", a.shape)\n",
    "print(\"Size : \", a.size)\n",
    "print(\"Element Data Type: \" , a.dtype)\n",
    "print(\"Data Type: \", type(a))\n"
   ]
  },
  {
   "cell_type": "code",
   "execution_count": 7,
   "metadata": {},
   "outputs": [
    {
     "data": {
      "text/plain": [
       "4"
      ]
     },
     "execution_count": 7,
     "metadata": {},
     "output_type": "execute_result"
    }
   ],
   "source": [
    "a[1][0][1]"
   ]
  },
  {
   "cell_type": "code",
   "execution_count": 8,
   "metadata": {},
   "outputs": [
    {
     "name": "stdout",
     "output_type": "stream",
     "text": [
      "[[1 4 2 6]\n",
      " [1 3 8 3]\n",
      " [8 5 5 9]]\n",
      "[1 3 8 3]\n",
      "8\n"
     ]
    }
   ],
   "source": [
    "print(a[1])\n",
    "print(a[1][1])\n",
    "print(a[1][1][2])\n"
   ]
  },
  {
   "cell_type": "markdown",
   "metadata": {},
   "source": [
    "## Array Range Function\n",
    "## np.arange() "
   ]
  },
  {
   "cell_type": "code",
   "execution_count": 15,
   "metadata": {},
   "outputs": [
    {
     "name": "stdout",
     "output_type": "stream",
     "text": [
      "Array: \n",
      " [0 1 2 3 4 5 6 7 8 9]\n",
      "N-Dimension :  1\n",
      "Array-Shape (10,)\n",
      "Size :  10\n",
      "Element Data Type:  int32\n",
      "Data Type:  <class 'numpy.ndarray'>\n"
     ]
    }
   ],
   "source": [
    "# it generate an array from 0 to 9 \n",
    "a = np.arange(10)\n",
    "\n",
    "print(\"Array: \\n\", a )\n",
    "print(\"N-Dimension : \", a.ndim)\n",
    "print(\"Array-Shape\", a.shape)\n",
    "print(\"Size : \", a.size)\n",
    "print(\"Element Data Type: \" , a.dtype)\n",
    "print(\"Data Type: \", type(a))\n"
   ]
  },
  {
   "cell_type": "code",
   "execution_count": 16,
   "metadata": {},
   "outputs": [
    {
     "name": "stdout",
     "output_type": "stream",
     "text": [
      "Array: \n",
      " [10 11 12 13 14 15 16 17 18 19]\n",
      "N-Dimension :  1\n",
      "Array-Shape (10,)\n",
      "Size :  10\n",
      "Element Data Type:  int32\n",
      "Data Type:  <class 'numpy.ndarray'>\n"
     ]
    }
   ],
   "source": [
    "# Provide start and stop point\n",
    "# arange(startPoint, stopPoint)\n",
    "a = np.arange(10,20)\n",
    "\n",
    "\n",
    "print(\"Array: \\n\", a )\n",
    "print(\"N-Dimension : \", a.ndim)\n",
    "print(\"Array-Shape\", a.shape)\n",
    "print(\"Size : \", a.size)\n",
    "print(\"Element Data Type: \" , a.dtype)\n",
    "print(\"Data Type: \", type(a))\n"
   ]
  },
  {
   "cell_type": "code",
   "execution_count": 17,
   "metadata": {},
   "outputs": [
    {
     "name": "stdout",
     "output_type": "stream",
     "text": [
      "Array: \n",
      " [10 15 20 25 30 35 40 45]\n",
      "N-Dimension :  1\n",
      "Array-Shape (8,)\n",
      "Size :  8\n",
      "Element Data Type:  int32\n"
     ]
    }
   ],
   "source": [
    "# Provide arange(start, stop, step)\n",
    "a = np.arange(10,50,5)\n",
    "\n",
    "\n",
    "print(\"Array: \\n\", a )\n",
    "print(\"N-Dimension : \", a.ndim)\n",
    "print(\"Array-Shape\", a.shape)\n",
    "print(\"Size : \", a.size)\n",
    "print(\"Element Data Type: \" , a.dtype)\n",
    "#print(\"Data Type: \", type(a))\n"
   ]
  },
  {
   "cell_type": "code",
   "execution_count": 28,
   "metadata": {},
   "outputs": [
    {
     "name": "stdout",
     "output_type": "stream",
     "text": [
      "Array: \n",
      " [10. 20. 30. 40. 50.]\n",
      "N-Dimension :  1\n",
      "Array-Shape (5,)\n",
      "Size :  5\n",
      "Element Data Type:  float64\n",
      "Data Type:  <class 'numpy.ndarray'>\n"
     ]
    }
   ],
   "source": [
    "# linspace (start, stop, number of elements)\n",
    "# means it distribute array in equal number of parts as given number\n",
    "\n",
    "a = np.linspace(10, 50, 5)\n",
    "\n",
    "\n",
    "print(\"Array: \\n\", a )\n",
    "print(\"N-Dimension : \", a.ndim)\n",
    "print(\"Array-Shape\", a.shape)\n",
    "print(\"Size : \", a.size)\n",
    "print(\"Element Data Type: \" , a.dtype)\n",
    "print(\"Data Type: \", type(a))\n",
    "\n"
   ]
  },
  {
   "cell_type": "markdown",
   "metadata": {},
   "source": [
    "# np.reshape(x,y,z,..)"
   ]
  },
  {
   "cell_type": "code",
   "execution_count": 18,
   "metadata": {},
   "outputs": [
    {
     "name": "stdout",
     "output_type": "stream",
     "text": [
      "[ 0  1  2  3  4  5  6  7  8  9 10 11 12 13 14 15 16 17 18 19]\n",
      "Array: \n",
      " [[ 0  1  2  3  4]\n",
      " [ 5  6  7  8  9]\n",
      " [10 11 12 13 14]\n",
      " [15 16 17 18 19]]\n",
      "N-Dimension :  2\n",
      "Array-Shape (4, 5)\n",
      "Size :  20\n",
      "Element Data Type:  int32\n",
      "Data Type:  <class 'numpy.ndarray'>\n"
     ]
    }
   ],
   "source": [
    "# reshape()\n",
    "# means recreate the array in new shape or dimensions\n",
    "\n",
    "a = np.arange(20)\n",
    "print(a)\n",
    "\n",
    "a = a.reshape(4,5)\n",
    "#a = np.arange(20).reshape(2,10)\n",
    "\n",
    "print(\"Array: \\n\", a )\n",
    "print(\"N-Dimension : \", a.ndim)\n",
    "print(\"Array-Shape\", a.shape)\n",
    "print(\"Size : \", a.size)\n",
    "print(\"Element Data Type: \" , a.dtype)\n",
    "print(\"Data Type: \", type(a))\n"
   ]
  },
  {
   "cell_type": "markdown",
   "metadata": {},
   "source": [
    "## np.ravel() ( Opposite of reshape, it comvert any array in to single array"
   ]
  },
  {
   "cell_type": "code",
   "execution_count": 20,
   "metadata": {},
   "outputs": [
    {
     "data": {
      "text/plain": [
       "array([ 0,  1,  2,  3,  4,  5,  6,  7,  8,  9, 10, 11, 12, 13, 14, 15, 16,\n",
       "       17, 18, 19])"
      ]
     },
     "execution_count": 20,
     "metadata": {},
     "output_type": "execute_result"
    }
   ],
   "source": [
    "# ravel() -> keep all elements adding in single array\n",
    "# it will not sort elements.\n",
    "\n",
    "a.ravel() "
   ]
  },
  {
   "cell_type": "markdown",
   "metadata": {},
   "source": [
    "# np.random.rand() ( generate random number between 0 to 1"
   ]
  },
  {
   "cell_type": "code",
   "execution_count": 21,
   "metadata": {},
   "outputs": [
    {
     "data": {
      "text/plain": [
       "0.2207392481377758"
      ]
     },
     "execution_count": 21,
     "metadata": {},
     "output_type": "execute_result"
    }
   ],
   "source": [
    "# Generate random number\n",
    "np.random.rand()"
   ]
  },
  {
   "cell_type": "code",
   "execution_count": 25,
   "metadata": {},
   "outputs": [
    {
     "data": {
      "text/plain": [
       "array([[0.22153585, 0.46706791, 0.64783923, 0.55961554, 0.82302499],\n",
       "       [0.82368752, 0.88906698, 0.26055491, 0.2494199 , 0.74773907],\n",
       "       [0.40691341, 0.26563912, 0.74393129, 0.82975624, 0.56198571],\n",
       "       [0.48783543, 0.86819844, 0.58565146, 0.57098817, 0.51455329]])"
      ]
     },
     "execution_count": 25,
     "metadata": {},
     "output_type": "execute_result"
    }
   ],
   "source": [
    "# Create an array of random double elements (row, columns)\n",
    "\n",
    "np.random.rand(4,5)"
   ]
  },
  {
   "cell_type": "markdown",
   "metadata": {},
   "source": [
    "# np.random.randint(start, stop, number of element) "
   ]
  },
  {
   "cell_type": "code",
   "execution_count": 29,
   "metadata": {},
   "outputs": [
    {
     "data": {
      "text/plain": [
       "3"
      ]
     },
     "execution_count": 29,
     "metadata": {},
     "output_type": "execute_result"
    }
   ],
   "source": [
    "# Create an array of random integer elements betwnn the given range\n",
    "# randint(minNumber, maxNumber, numberOfelementToSelect)\n",
    "\n",
    "np.random.randint(3,7)"
   ]
  },
  {
   "cell_type": "code",
   "execution_count": 30,
   "metadata": {},
   "outputs": [
    {
     "data": {
      "text/plain": [
       "array([21, 36, 47, 25, 22, 21, 42, 18, 33, 46, 47, 16, 24, 26, 41, 15, 18,\n",
       "       43, 35, 33])"
      ]
     },
     "execution_count": 30,
     "metadata": {},
     "output_type": "execute_result"
    }
   ],
   "source": [
    "# Create an array of random integer elements ARRAY betwnn the given range\n",
    "# randint(minNumber, maxNumber, numberOfelementToSelect)\n",
    "\n",
    "np.random.randint(10,50,20)"
   ]
  },
  {
   "cell_type": "code",
   "execution_count": 47,
   "metadata": {},
   "outputs": [
    {
     "data": {
      "text/plain": [
       "array([[14, 47, 35, 31, 44],\n",
       "       [41, 44, 36, 45, 18],\n",
       "       [26, 14, 17, 18, 11],\n",
       "       [41, 39, 43, 19, 33]])"
      ]
     },
     "execution_count": 47,
     "metadata": {},
     "output_type": "execute_result"
    }
   ],
   "source": [
    "np.random.randint(10,50,20).reshape(4,5)"
   ]
  },
  {
   "cell_type": "code",
   "execution_count": null,
   "metadata": {},
   "outputs": [],
   "source": []
  },
  {
   "cell_type": "markdown",
   "metadata": {},
   "source": [
    "# Numpy stacking and splitting\n",
    "## np.hstack((arrayA, arrayB)) -> #( Horizontal means X -> axis)\n",
    "## np.vstack((arrayA, arrayB)) -> #( Vertical means Y -> axis)"
   ]
  },
  {
   "cell_type": "code",
   "execution_count": 31,
   "metadata": {},
   "outputs": [
    {
     "name": "stdout",
     "output_type": "stream",
     "text": [
      "a array:  [[24 90 80 39]\n",
      " [58 19 31  1]\n",
      " [16 29 95 96]]\n",
      "b array:  [[49 13  2 25]\n",
      " [56  5 88 92]\n",
      " [41 29 79 72]]\n"
     ]
    }
   ],
   "source": [
    "a = np.random.randint(1, 100, 12).reshape(3,4)\n",
    "b = np.random.randint(1, 100, 12).reshape(3,4)\n",
    "print(\"a array: \" , a)\n",
    "print(\"b array: \" , b)\n",
    "\n"
   ]
  },
  {
   "cell_type": "code",
   "execution_count": 32,
   "metadata": {},
   "outputs": [
    {
     "data": {
      "text/plain": [
       "array([[24, 90, 80, 39, 49, 13,  2, 25],\n",
       "       [58, 19, 31,  1, 56,  5, 88, 92],\n",
       "       [16, 29, 95, 96, 41, 29, 79, 72]])"
      ]
     },
     "execution_count": 32,
     "metadata": {},
     "output_type": "execute_result"
    }
   ],
   "source": [
    "np.hstack((a, b)) \n",
    "\n",
    "#( Horizontal means X -> axis)"
   ]
  },
  {
   "cell_type": "code",
   "execution_count": 60,
   "metadata": {},
   "outputs": [
    {
     "name": "stdout",
     "output_type": "stream",
     "text": [
      "[array([[22, 81],\n",
      "       [57, 55],\n",
      "       [ 9, 23]]), array([[21, 32],\n",
      "       [80, 75],\n",
      "       [94, 64]])]\n",
      "[[22 81]\n",
      " [57 55]\n",
      " [ 9 23]]\n"
     ]
    }
   ],
   "source": [
    "# split horizontal\n",
    "\n",
    "a_splitted = np.hsplit(a, 2)\n",
    "print(a_splitted)\n",
    "print(a_splitted[0])\n"
   ]
  },
  {
   "cell_type": "code",
   "execution_count": null,
   "metadata": {},
   "outputs": [],
   "source": [
    "# Split vertical"
   ]
  },
  {
   "cell_type": "code",
   "execution_count": 62,
   "metadata": {},
   "outputs": [
    {
     "name": "stdout",
     "output_type": "stream",
     "text": [
      "[array([[22, 81, 21, 32]]), array([[57, 55, 80, 75]]), array([[ 9, 23, 94, 64]])]\n",
      "[[22 81 21 32]]\n"
     ]
    }
   ],
   "source": [
    "np.vstack(( a, b)) \n",
    "a_splitted = np.vsplit(a, 3)\n",
    "print(a_splitted)\n",
    "print(a_splitted[0])\n",
    "\n",
    "# (Vertical means Y -> axis)"
   ]
  },
  {
   "cell_type": "code",
   "execution_count": null,
   "metadata": {},
   "outputs": [],
   "source": []
  },
  {
   "cell_type": "markdown",
   "metadata": {},
   "source": [
    "# Deep copy OR Copy element "
   ]
  },
  {
   "cell_type": "code",
   "execution_count": 64,
   "metadata": {},
   "outputs": [
    {
     "name": "stdout",
     "output_type": "stream",
     "text": [
      "a array:  [[70  2 44 56]\n",
      " [66 91 30 45]\n",
      " [99 19 43 88]]\n"
     ]
    },
    {
     "data": {
      "text/plain": [
       "array([[70,  2, 44, 56],\n",
       "       [66, 91, 30, 45],\n",
       "       [99, 19, 43, 88]])"
      ]
     },
     "execution_count": 64,
     "metadata": {},
     "output_type": "execute_result"
    }
   ],
   "source": [
    "a = np.random.randint(1, 100, 12).reshape(3,4)\n",
    "print(\"a array: \" , a)\n",
    "\n",
    "z = a.copy()\n",
    "z\n"
   ]
  },
  {
   "cell_type": "markdown",
   "metadata": {},
   "source": [
    "# np.matmul()\n",
    "## used for the multiplicaiton in array (row[] * col[])"
   ]
  },
  {
   "cell_type": "code",
   "execution_count": 69,
   "metadata": {},
   "outputs": [
    {
     "name": "stdout",
     "output_type": "stream",
     "text": [
      "a array:  [[38 37 31]\n",
      " [86 15 96]\n",
      " [ 6 15 80]]\n",
      "b array:  [[94  4 61]\n",
      " [59 31 37]\n",
      " [59 33 35]]\n"
     ]
    },
    {
     "data": {
      "text/plain": [
       "array([[ 7584,  2322,  4772],\n",
       "       [14633,  3977,  9161],\n",
       "       [ 6169,  3129,  3721]])"
      ]
     },
     "execution_count": 69,
     "metadata": {},
     "output_type": "execute_result"
    }
   ],
   "source": [
    "a = np.random.randint(1, 100, 9).reshape(3,3)\n",
    "b = np.random.randint(1, 100, 9).reshape(3,3)\n",
    "print(\"a array: \" , a)\n",
    "print(\"b array: \" , b)\n",
    "\n",
    "np.matmul(a,b)\n"
   ]
  },
  {
   "cell_type": "code",
   "execution_count": null,
   "metadata": {},
   "outputs": [],
   "source": []
  },
  {
   "cell_type": "markdown",
   "metadata": {},
   "source": [
    "# floor(), ceil(), round() works on the all elements of the array"
   ]
  },
  {
   "cell_type": "code",
   "execution_count": 81,
   "metadata": {},
   "outputs": [
    {
     "data": {
      "text/plain": [
       "5.0"
      ]
     },
     "execution_count": 81,
     "metadata": {},
     "output_type": "execute_result"
    }
   ],
   "source": [
    "np.floor(5.4) # return min"
   ]
  },
  {
   "cell_type": "code",
   "execution_count": 82,
   "metadata": {},
   "outputs": [
    {
     "data": {
      "text/plain": [
       "6.0"
      ]
     },
     "execution_count": 82,
     "metadata": {},
     "output_type": "execute_result"
    }
   ],
   "source": [
    "np.ceil(5.4) # return max"
   ]
  },
  {
   "cell_type": "code",
   "execution_count": 79,
   "metadata": {},
   "outputs": [
    {
     "data": {
      "text/plain": [
       "5.0"
      ]
     },
     "execution_count": 79,
     "metadata": {},
     "output_type": "execute_result"
    }
   ],
   "source": [
    "np.round(5.4) # return rouned number"
   ]
  },
  {
   "cell_type": "code",
   "execution_count": 83,
   "metadata": {},
   "outputs": [
    {
     "data": {
      "text/plain": [
       "6.0"
      ]
     },
     "execution_count": 83,
     "metadata": {},
     "output_type": "execute_result"
    }
   ],
   "source": [
    "np.round(5.6)"
   ]
  },
  {
   "cell_type": "code",
   "execution_count": null,
   "metadata": {},
   "outputs": [],
   "source": []
  },
  {
   "cell_type": "code",
   "execution_count": 84,
   "metadata": {},
   "outputs": [
    {
     "data": {
      "text/plain": [
       "array([[9., 8., 9.],\n",
       "       [1., 7., 1.]])"
      ]
     },
     "execution_count": 84,
     "metadata": {},
     "output_type": "execute_result"
    }
   ],
   "source": [
    "np.floor(np.random.rand(2,3)*10)"
   ]
  },
  {
   "cell_type": "code",
   "execution_count": 86,
   "metadata": {},
   "outputs": [
    {
     "data": {
      "text/plain": [
       "1.4142135623730951"
      ]
     },
     "execution_count": 86,
     "metadata": {},
     "output_type": "execute_result"
    }
   ],
   "source": [
    "# Squar root of \n",
    "\n",
    "np.sqrt(2)"
   ]
  },
  {
   "cell_type": "code",
   "execution_count": 87,
   "metadata": {},
   "outputs": [
    {
     "data": {
      "text/plain": [
       "array([[2.09752148, 0.94261746, 3.15967982],\n",
       "       [1.00214169, 2.2531811 , 2.08881498]])"
      ]
     },
     "execution_count": 87,
     "metadata": {},
     "output_type": "execute_result"
    }
   ],
   "source": [
    "np.sqrt(np.random.rand(2,3)*10)"
   ]
  },
  {
   "cell_type": "code",
   "execution_count": null,
   "metadata": {},
   "outputs": [],
   "source": []
  },
  {
   "cell_type": "code",
   "execution_count": null,
   "metadata": {},
   "outputs": [],
   "source": []
  },
  {
   "cell_type": "code",
   "execution_count": null,
   "metadata": {},
   "outputs": [],
   "source": [
    "#"
   ]
  },
  {
   "cell_type": "code",
   "execution_count": null,
   "metadata": {},
   "outputs": [],
   "source": []
  },
  {
   "cell_type": "code",
   "execution_count": null,
   "metadata": {},
   "outputs": [],
   "source": []
  },
  {
   "cell_type": "code",
   "execution_count": null,
   "metadata": {},
   "outputs": [],
   "source": []
  },
  {
   "cell_type": "code",
   "execution_count": null,
   "metadata": {},
   "outputs": [],
   "source": []
  }
 ],
 "metadata": {
  "kernelspec": {
   "display_name": "Python 3",
   "language": "python",
   "name": "python3"
  },
  "language_info": {
   "codemirror_mode": {
    "name": "ipython",
    "version": 3
   },
   "file_extension": ".py",
   "mimetype": "text/x-python",
   "name": "python",
   "nbconvert_exporter": "python",
   "pygments_lexer": "ipython3",
   "version": "3.7.0"
  }
 },
 "nbformat": 4,
 "nbformat_minor": 2
}

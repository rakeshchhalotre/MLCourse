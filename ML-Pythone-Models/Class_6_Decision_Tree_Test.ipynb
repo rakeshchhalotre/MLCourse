{
 "cells": [
  {
   "cell_type": "markdown",
   "metadata": {},
   "source": [
    "# Decision Tree Test"
   ]
  },
  {
   "cell_type": "code",
   "execution_count": 1,
   "metadata": {},
   "outputs": [],
   "source": [
    "# install the graph related things\n",
    "# conda install -c conda-forge pydotplus\n",
    "#!conda install pydotplus -y\n",
    "#    !pip install pydotplus"
   ]
  },
  {
   "cell_type": "code",
   "execution_count": 2,
   "metadata": {},
   "outputs": [],
   "source": [
    "#!conda install graphviz -y\n",
    "# !pip install graphviz"
   ]
  },
  {
   "cell_type": "markdown",
   "metadata": {},
   "source": [
    "# Example 1) Credit Card"
   ]
  },
  {
   "cell_type": "code",
   "execution_count": 3,
   "metadata": {},
   "outputs": [],
   "source": [
    "# importing necessary packages\n",
    "\n",
    "import pandas as pd\n",
    "from sklearn.tree import DecisionTreeClassifier, export_graphviz\n",
    "from IPython.display import Image\n",
    "\n",
    "import pydotplus\n",
    "\n",
    "# Visualizing \n",
    "from sklearn.externals.six import StringIO"
   ]
  },
  {
   "cell_type": "code",
   "execution_count": 4,
   "metadata": {},
   "outputs": [],
   "source": [
    "# loading data\n",
    "data = pd.read_csv('cc_default.csv')"
   ]
  },
  {
   "cell_type": "code",
   "execution_count": 5,
   "metadata": {},
   "outputs": [
    {
     "name": "stdout",
     "output_type": "stream",
     "text": [
      "(32, 4)\n",
      "   income  credit_score salaried defaulted\n",
      "0   30000             8      Yes        No\n",
      "1   25000             6      Yes       Yes\n",
      "2   55000             7      Yes        No\n",
      "3   45000             6      Yes        No\n",
      "4   40000             6       No       Yes\n"
     ]
    }
   ],
   "source": [
    "print(data.shape)\n",
    "print(data.head())"
   ]
  },
  {
   "cell_type": "code",
   "execution_count": 6,
   "metadata": {},
   "outputs": [],
   "source": [
    "# Decision tree works on numaric values so we need to change the values \n",
    "# replace yes with 1 and No with 0 \n",
    "# inplace=True , means it will modify the value in dataSet 'data'\n",
    "\n",
    "# Replace single column value\n",
    "# data.salaried.replace('No',0, inplace=True)\n",
    "\n",
    "# Replace all column values\n",
    "data.replace('No',0, inplace = True)\n",
    "data.replace('Yes',1, inplace = True)"
   ]
  },
  {
   "cell_type": "code",
   "execution_count": 7,
   "metadata": {},
   "outputs": [
    {
     "name": "stdout",
     "output_type": "stream",
     "text": [
      "   income  credit_score  salaried  defaulted\n",
      "0   30000             8         1          0\n",
      "1   25000             6         1          1\n",
      "2   55000             7         1          0\n",
      "3   45000             6         1          0\n",
      "4   40000             6         0          1\n"
     ]
    }
   ],
   "source": [
    "print(data.head())"
   ]
  },
  {
   "cell_type": "code",
   "execution_count": 8,
   "metadata": {},
   "outputs": [],
   "source": [
    "X = data.loc[:,['income','credit_score','salaried']]\n",
    "y = data.defaulted             "
   ]
  },
  {
   "cell_type": "code",
   "execution_count": 9,
   "metadata": {},
   "outputs": [],
   "source": [
    "# create DecisionTreeModel object\n",
    "model = DecisionTreeClassifier(max_depth=5)"
   ]
  },
  {
   "cell_type": "code",
   "execution_count": 10,
   "metadata": {},
   "outputs": [
    {
     "data": {
      "text/plain": [
       "DecisionTreeClassifier(class_weight=None, criterion='gini', max_depth=5,\n",
       "            max_features=None, max_leaf_nodes=None,\n",
       "            min_impurity_decrease=0.0, min_impurity_split=None,\n",
       "            min_samples_leaf=1, min_samples_split=2,\n",
       "            min_weight_fraction_leaf=0.0, presort=False, random_state=None,\n",
       "            splitter='best')"
      ]
     },
     "execution_count": 10,
     "metadata": {},
     "output_type": "execute_result"
    }
   ],
   "source": [
    "# Train model\n",
    "model.fit(X,y)"
   ]
  },
  {
   "cell_type": "code",
   "execution_count": 13,
   "metadata": {},
   "outputs": [],
   "source": [
    "# Visualizing \n",
    "node_data = StringIO()\n",
    "\n",
    "export_graphviz(model, out_file = node_data, filled = True, rounded=True, \n",
    "                feature_names=['income','credit_score','salaried'], # used for the condition check header (Exp income < 20000)\n",
    "                class_names =['NOT Defaulted','Defaulted'] # used to show the decision (Exp. Class= Defauled)\n",
    "               )\n"
   ]
  },
  {
   "cell_type": "code",
   "execution_count": 14,
   "metadata": {},
   "outputs": [
    {
     "data": {
      "text/plain": [
       "'digraph Tree {\\nnode [shape=box, style=\"filled, rounded\", color=\"black\", fontname=helvetica] ;\\nedge [fontname=helvetica] ;\\n0 [label=\"salaried <= 0.5\\\\ngini = 0.492\\\\nsamples = 32\\\\nvalue = [18, 14]\\\\nclass = NOT Defaulted\", fillcolor=\"#e5813939\"] ;\\n1 [label=\"gini = 0.0\\\\nsamples = 6\\\\nvalue = [0, 6]\\\\nclass = Defaulted\", fillcolor=\"#399de5ff\"] ;\\n0 -> 1 [labeldistance=2.5, labelangle=45, headlabel=\"True\"] ;\\n2 [label=\"credit_score <= 5.5\\\\ngini = 0.426\\\\nsamples = 26\\\\nvalue = [18, 8]\\\\nclass = NOT Defaulted\", fillcolor=\"#e581398e\"] ;\\n0 -> 2 [labeldistance=2.5, labelangle=-45, headlabel=\"False\"] ;\\n3 [label=\"credit_score <= 3.5\\\\ngini = 0.278\\\\nsamples = 6\\\\nvalue = [1, 5]\\\\nclass = Defaulted\", fillcolor=\"#399de5cc\"] ;\\n2 -> 3 ;\\n4 [label=\"income <= 43000.0\\\\ngini = 0.5\\\\nsamples = 2\\\\nvalue = [1, 1]\\\\nclass = NOT Defaulted\", fillcolor=\"#e5813900\"] ;\\n3 -> 4 ;\\n5 [label=\"gini = 0.0\\\\nsamples = 1\\\\nvalue = [1, 0]\\\\nclass = NOT Defaulted\", fillcolor=\"#e58139ff\"] ;\\n4 -> 5 ;\\n6 [label=\"gini = 0.0\\\\nsamples = 1\\\\nvalue = [0, 1]\\\\nclass = Defaulted\", fillcolor=\"#399de5ff\"] ;\\n4 -> 6 ;\\n7 [label=\"gini = 0.0\\\\nsamples = 4\\\\nvalue = [0, 4]\\\\nclass = Defaulted\", fillcolor=\"#399de5ff\"] ;\\n3 -> 7 ;\\n8 [label=\"income <= 28500.0\\\\ngini = 0.255\\\\nsamples = 20\\\\nvalue = [17, 3]\\\\nclass = NOT Defaulted\", fillcolor=\"#e58139d2\"] ;\\n2 -> 8 ;\\n9 [label=\"income <= 23500.0\\\\ngini = 0.49\\\\nsamples = 7\\\\nvalue = [4, 3]\\\\nclass = NOT Defaulted\", fillcolor=\"#e5813940\"] ;\\n8 -> 9 ;\\n10 [label=\"gini = 0.0\\\\nsamples = 2\\\\nvalue = [2, 0]\\\\nclass = NOT Defaulted\", fillcolor=\"#e58139ff\"] ;\\n9 -> 10 ;\\n11 [label=\"credit_score <= 6.5\\\\ngini = 0.48\\\\nsamples = 5\\\\nvalue = [2, 3]\\\\nclass = Defaulted\", fillcolor=\"#399de555\"] ;\\n9 -> 11 ;\\n12 [label=\"gini = 0.444\\\\nsamples = 3\\\\nvalue = [1, 2]\\\\nclass = Defaulted\", fillcolor=\"#399de57f\"] ;\\n11 -> 12 ;\\n13 [label=\"gini = 0.5\\\\nsamples = 2\\\\nvalue = [1, 1]\\\\nclass = NOT Defaulted\", fillcolor=\"#e5813900\"] ;\\n11 -> 13 ;\\n14 [label=\"gini = 0.0\\\\nsamples = 13\\\\nvalue = [13, 0]\\\\nclass = NOT Defaulted\", fillcolor=\"#e58139ff\"] ;\\n8 -> 14 ;\\n}'"
      ]
     },
     "execution_count": 14,
     "metadata": {},
     "output_type": "execute_result"
    }
   ],
   "source": [
    "node_data.getvalue()"
   ]
  },
  {
   "cell_type": "code",
   "execution_count": 16,
   "metadata": {},
   "outputs": [],
   "source": [
    "# create the graph\n",
    "graph = pydotplus.graph_from_dot_data(node_data.getvalue())"
   ]
  },
  {
   "cell_type": "code",
   "execution_count": null,
   "metadata": {},
   "outputs": [],
   "source": []
  },
  {
   "cell_type": "code",
   "execution_count": 17,
   "metadata": {},
   "outputs": [
    {
     "data": {
      "text/plain": [
       "array([0], dtype=int64)"
      ]
     },
     "execution_count": 17,
     "metadata": {},
     "output_type": "execute_result"
    }
   ],
   "source": [
    "# predict the answer for input values\n",
    "# ['income','credit_score','salaried']\n",
    "model.predict([[35000,6,1]])  \n",
    "\n",
    "# Answer 0 , reprasent not defaulter means can give credit card"
   ]
  },
  {
   "cell_type": "markdown",
   "metadata": {},
   "source": [
    "# Predict/Test the input value"
   ]
  },
  {
   "cell_type": "code",
   "execution_count": 18,
   "metadata": {},
   "outputs": [
    {
     "data": {
      "text/plain": [
       "array([1], dtype=int64)"
      ]
     },
     "execution_count": 18,
     "metadata": {},
     "output_type": "execute_result"
    }
   ],
   "source": [
    "# predict the value\n",
    "# ['income','credit_score','salaried']\n",
    "model.predict([[35000,6,0]]) \n",
    "\n",
    "\n",
    "# Answer 1 , reprasent defaulter means should not give credit card"
   ]
  },
  {
   "cell_type": "code",
   "execution_count": null,
   "metadata": {},
   "outputs": [],
   "source": [
    "# Here we are creating the Graph\n",
    "\n",
    "Image(graph.create_png())"
   ]
  },
  {
   "cell_type": "code",
   "execution_count": null,
   "metadata": {},
   "outputs": [],
   "source": []
  },
  {
   "cell_type": "code",
   "execution_count": null,
   "metadata": {},
   "outputs": [],
   "source": []
  },
  {
   "cell_type": "code",
   "execution_count": null,
   "metadata": {},
   "outputs": [],
   "source": []
  },
  {
   "cell_type": "code",
   "execution_count": null,
   "metadata": {},
   "outputs": [],
   "source": [
    "# importing necessary packages\n",
    "\n",
    "# import pandas as pd\n",
    "# from sklearn.tree import DecisionTreeClassifier, export_graphviz\n",
    "# import sklearn.datasets as datasets\n",
    "# from sklearn.tree import DecisionTreeClassifier\n",
    "# from sklearn.esternals.six \n",
    "\n"
   ]
  },
  {
   "cell_type": "code",
   "execution_count": null,
   "metadata": {},
   "outputs": [],
   "source": []
  }
 ],
 "metadata": {
  "kernelspec": {
   "display_name": "Python 3",
   "language": "python",
   "name": "python3"
  },
  "language_info": {
   "codemirror_mode": {
    "name": "ipython",
    "version": 3
   },
   "file_extension": ".py",
   "mimetype": "text/x-python",
   "name": "python",
   "nbconvert_exporter": "python",
   "pygments_lexer": "ipython3",
   "version": "3.7.0"
  }
 },
 "nbformat": 4,
 "nbformat_minor": 2
}

{
 "cells": [
  {
   "cell_type": "markdown",
   "metadata": {},
   "source": [
    "# Hypothesis Testing , T-Testing"
   ]
  },
  {
   "cell_type": "code",
   "execution_count": 5,
   "metadata": {},
   "outputs": [],
   "source": [
    "marriage_age_SanF = [33,34,35,36,32,28,29,30,31,37,36,35,33,34,31,40,24]"
   ]
  },
  {
   "cell_type": "markdown",
   "metadata": {},
   "source": [
    "### Marriage age in Sans Francisco  is 35, Means Hypothesized mean is 35\n",
    "### Null Hypothesis , H0 = Marriage age in Sans F is 35\n",
    "### Alt Hypothesis , Ha = Marriage age in Sans F is NOT 35"
   ]
  },
  {
   "cell_type": "code",
   "execution_count": 6,
   "metadata": {
    "collapsed": true
   },
   "outputs": [],
   "source": [
    "from scipy import stats"
   ]
  },
  {
   "cell_type": "markdown",
   "metadata": {},
   "source": [
    "# One Sample T-Test"
   ]
  },
  {
   "cell_type": "code",
   "execution_count": 7,
   "metadata": {},
   "outputs": [
    {
     "data": {
      "text/plain": [
       "Ttest_1sampResult(statistic=-2.354253623010381, pvalue=0.031668043598621312)"
      ]
     },
     "execution_count": 7,
     "metadata": {},
     "output_type": "execute_result"
    }
   ],
   "source": [
    "stats.ttest_1samp(marriage_age_SanF,35)"
   ]
  },
  {
   "cell_type": "markdown",
   "metadata": {},
   "source": [
    "### P value = 0.031 = 3.1%, This means that the probablity (or chance) of marriage age 35 is only 3.1%. That is our Null Hypothesis is Wrong.\n",
    "### Generalizing, if P value < 5 % , we REJECT Null Hypothesis.\n",
    "### In our example, we REJECT H0, and conclude Ha that marriage age in San F is NOT 35\n"
   ]
  },
  {
   "cell_type": "markdown",
   "metadata": {},
   "source": [
    "# Two sample Independent T-test"
   ]
  },
  {
   "cell_type": "code",
   "execution_count": 11,
   "metadata": {
    "collapsed": true
   },
   "outputs": [],
   "source": [
    "marriage_age_bang = [29,31,28,33,31,34,32,20,32,28,27,26,30,31,34,30]"
   ]
  },
  {
   "cell_type": "code",
   "execution_count": 12,
   "metadata": {},
   "outputs": [
    {
     "data": {
      "text/plain": [
       "[33, 34, 35, 36, 32, 28, 29, 30, 31, 37, 36, 35, 33, 34, 31, 40, 24]"
      ]
     },
     "execution_count": 12,
     "metadata": {},
     "output_type": "execute_result"
    }
   ],
   "source": [
    "marriage_age_SanF"
   ]
  },
  {
   "cell_type": "markdown",
   "metadata": {},
   "source": [
    "### Null Hypothesis , H0 = Marriage age in Sans F and Bangalore is same. Always Null Hypothesis equals given samples\n",
    "### Alt Hypothesis , Ha = Marriage age in Sans F is NOT same as Bangalore"
   ]
  },
  {
   "cell_type": "code",
   "execution_count": 13,
   "metadata": {},
   "outputs": [
    {
     "data": {
      "text/plain": [
       "Ttest_indResult(statistic=2.4045441770245328, pvalue=0.022355127034138323)"
      ]
     },
     "execution_count": 13,
     "metadata": {},
     "output_type": "execute_result"
    }
   ],
   "source": [
    "stats.ttest_ind(marriage_age_SanF,marriage_age_bang)"
   ]
  },
  {
   "cell_type": "markdown",
   "metadata": {},
   "source": [
    "### P value = 0.022 = 2.2%, This means that the probablity (or chance) of marriage age same in San Francisco and Bangalore is same is only 2.2%.  Null Hypothesis is Wrong.\n",
    "### We REJECT Null Hypothesis.\n",
    "### Concluding,that marriage age in San F and Bangalore is NOT same.\n"
   ]
  },
  {
   "cell_type": "markdown",
   "metadata": {},
   "source": [
    "# Two Sample paired (or Relational) T - test"
   ]
  },
  {
   "cell_type": "markdown",
   "metadata": {},
   "source": [
    "### Studying effect of RedBull"
   ]
  },
  {
   "cell_type": "code",
   "execution_count": 14,
   "metadata": {
    "collapsed": true
   },
   "outputs": [],
   "source": [
    "before_redbull = [68,45,46,34,23,67,80,120,34,54,68]\n",
    "after_redbull =  [28,25,26,24,13,37,30,30,54,34,38]"
   ]
  },
  {
   "cell_type": "markdown",
   "metadata": {},
   "source": [
    "### H NULL = H0 = Response times before and after redbull are same. This means Redbull has NO EFFECT\n",
    "### H alt = Ha = Response times before and after redbull are NOT same. This means Redbull has  EFFECT"
   ]
  },
  {
   "cell_type": "code",
   "execution_count": 15,
   "metadata": {},
   "outputs": [
    {
     "data": {
      "text/plain": [
       "Ttest_relResult(statistic=3.2771720738937873, pvalue=0.0083286708202992901)"
      ]
     },
     "execution_count": 15,
     "metadata": {},
     "output_type": "execute_result"
    }
   ],
   "source": [
    "stats.ttest_rel(before_redbull,after_redbull)"
   ]
  },
  {
   "cell_type": "markdown",
   "metadata": {},
   "source": [
    "### P value = 0.008, 0.8% .  P < 5%, So we reject H0 and accept Ha, This means redbull has EFFECT"
   ]
  },
  {
   "cell_type": "markdown",
   "metadata": {},
   "source": [
    "# End of Hypothesis Testing, T-tests Tutorial"
   ]
  },
  {
   "cell_type": "code",
   "execution_count": null,
   "metadata": {
    "collapsed": true
   },
   "outputs": [],
   "source": []
  }
 ],
 "metadata": {
  "kernelspec": {
   "display_name": "Python 3",
   "language": "python",
   "name": "python3"
  },
  "language_info": {
   "codemirror_mode": {
    "name": "ipython",
    "version": 3
   },
   "file_extension": ".py",
   "mimetype": "text/x-python",
   "name": "python",
   "nbconvert_exporter": "python",
   "pygments_lexer": "ipython3",
   "version": "3.6.2"
  }
 },
 "nbformat": 4,
 "nbformat_minor": 2
}

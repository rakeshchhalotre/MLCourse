{
 "cells": [
  {
   "cell_type": "markdown",
   "metadata": {},
   "source": [
    "# Predict the home price in bangalore uainf Linear Regression\n",
    "\n",
    "#### Step-1) Devide the dataset into Trainning 70% and test 30%\n",
    "#### Step-2) Training = X_train, X_test , Test = y_train, y_test\n",
    "#### Step-3) Train the Model\n",
    "#### Step-4) Predict the y_predict by passing x_test in to the Trained Model\n",
    "#### Step-5) Check the y_test and y_predict"
   ]
  },
  {
   "cell_type": "code",
   "execution_count": 1,
   "metadata": {
    "scrolled": true
   },
   "outputs": [],
   "source": [
    "import pandas as pd\n",
    "# we need stats to get skewness and kurtosis from scipy.stats\n",
    "import scipy as sp \n",
    "import seaborn as sb\n",
    "\n",
    "# from sklearn.model_selection import train_test_split\n",
    "# from sklearn.linear_model import LinearRegression\n",
    "# from sklearn.metrics import r2_score"
   ]
  },
  {
   "cell_type": "code",
   "execution_count": 2,
   "metadata": {},
   "outputs": [
    {
     "data": {
      "text/html": [
       "<div>\n",
       "<style scoped>\n",
       "    .dataframe tbody tr th:only-of-type {\n",
       "        vertical-align: middle;\n",
       "    }\n",
       "\n",
       "    .dataframe tbody tr th {\n",
       "        vertical-align: top;\n",
       "    }\n",
       "\n",
       "    .dataframe thead th {\n",
       "        text-align: right;\n",
       "    }\n",
       "</style>\n",
       "<table border=\"1\" class=\"dataframe\">\n",
       "  <thead>\n",
       "    <tr style=\"text-align: right;\">\n",
       "      <th></th>\n",
       "      <th>location</th>\n",
       "      <th>bhk</th>\n",
       "      <th>area_sqft</th>\n",
       "      <th>year_old</th>\n",
       "      <th>floor</th>\n",
       "      <th>price</th>\n",
       "    </tr>\n",
       "  </thead>\n",
       "  <tbody>\n",
       "    <tr>\n",
       "      <th>0</th>\n",
       "      <td>bangalore</td>\n",
       "      <td>1.0</td>\n",
       "      <td>500</td>\n",
       "      <td>1</td>\n",
       "      <td>1</td>\n",
       "      <td>500000</td>\n",
       "    </tr>\n",
       "    <tr>\n",
       "      <th>1</th>\n",
       "      <td>bangalore</td>\n",
       "      <td>1.0</td>\n",
       "      <td>500</td>\n",
       "      <td>1</td>\n",
       "      <td>5</td>\n",
       "      <td>505000</td>\n",
       "    </tr>\n",
       "    <tr>\n",
       "      <th>2</th>\n",
       "      <td>bangalore</td>\n",
       "      <td>1.0</td>\n",
       "      <td>500</td>\n",
       "      <td>1</td>\n",
       "      <td>10</td>\n",
       "      <td>500000</td>\n",
       "    </tr>\n",
       "    <tr>\n",
       "      <th>3</th>\n",
       "      <td>bangalore</td>\n",
       "      <td>1.0</td>\n",
       "      <td>550</td>\n",
       "      <td>5</td>\n",
       "      <td>3</td>\n",
       "      <td>550000</td>\n",
       "    </tr>\n",
       "    <tr>\n",
       "      <th>4</th>\n",
       "      <td>bangalore</td>\n",
       "      <td>1.0</td>\n",
       "      <td>550</td>\n",
       "      <td>5</td>\n",
       "      <td>10</td>\n",
       "      <td>555000</td>\n",
       "    </tr>\n",
       "  </tbody>\n",
       "</table>\n",
       "</div>"
      ],
      "text/plain": [
       "    location  bhk  area_sqft  year_old  floor   price\n",
       "0  bangalore  1.0        500         1      1  500000\n",
       "1  bangalore  1.0        500         1      5  505000\n",
       "2  bangalore  1.0        500         1     10  500000\n",
       "3  bangalore  1.0        550         5      3  550000\n",
       "4  bangalore  1.0        550         5     10  555000"
      ]
     },
     "execution_count": 2,
     "metadata": {},
     "output_type": "execute_result"
    }
   ],
   "source": [
    "data = pd.read_csv('house_price.csv')\n",
    "data.head()"
   ]
  },
  {
   "cell_type": "code",
   "execution_count": 3,
   "metadata": {},
   "outputs": [
    {
     "data": {
      "text/plain": [
       "(40, 6)"
      ]
     },
     "execution_count": 3,
     "metadata": {},
     "output_type": "execute_result"
    }
   ],
   "source": [
    "data.shape"
   ]
  },
  {
   "cell_type": "code",
   "execution_count": 4,
   "metadata": {},
   "outputs": [
    {
     "data": {
      "text/plain": [
       "<matplotlib.axes._subplots.AxesSubplot at 0x9480f98>"
      ]
     },
     "execution_count": 4,
     "metadata": {},
     "output_type": "execute_result"
    },
    {
     "data": {
      "image/png": "[encoded data removed]",
      "text/plain": [
       "<Figure size 432x288 with 1 Axes>"
      ]
     },
     "metadata": {
      "needs_background": "light"
     },
     "output_type": "display_data"
    }
   ],
   "source": [
    "data.plot()"
   ]
  },
  {
   "cell_type": "code",
   "execution_count": 5,
   "metadata": {},
   "outputs": [
    {
     "data": {
      "text/html": [
       "<div>\n",
       "<style scoped>\n",
       "    .dataframe tbody tr th:only-of-type {\n",
       "        vertical-align: middle;\n",
       "    }\n",
       "\n",
       "    .dataframe tbody tr th {\n",
       "        vertical-align: top;\n",
       "    }\n",
       "\n",
       "    .dataframe thead th {\n",
       "        text-align: right;\n",
       "    }\n",
       "</style>\n",
       "<table border=\"1\" class=\"dataframe\">\n",
       "  <thead>\n",
       "    <tr style=\"text-align: right;\">\n",
       "      <th></th>\n",
       "      <th>bhk</th>\n",
       "      <th>area_sqft</th>\n",
       "      <th>year_old</th>\n",
       "      <th>floor</th>\n",
       "      <th>price</th>\n",
       "    </tr>\n",
       "  </thead>\n",
       "  <tbody>\n",
       "    <tr>\n",
       "      <th>bhk</th>\n",
       "      <td>1.000000</td>\n",
       "      <td>0.831142</td>\n",
       "      <td>-0.125670</td>\n",
       "      <td>0.130960</td>\n",
       "      <td>0.981324</td>\n",
       "    </tr>\n",
       "    <tr>\n",
       "      <th>area_sqft</th>\n",
       "      <td>0.831142</td>\n",
       "      <td>1.000000</td>\n",
       "      <td>0.037635</td>\n",
       "      <td>0.152165</td>\n",
       "      <td>0.859441</td>\n",
       "    </tr>\n",
       "    <tr>\n",
       "      <th>year_old</th>\n",
       "      <td>-0.125670</td>\n",
       "      <td>0.037635</td>\n",
       "      <td>1.000000</td>\n",
       "      <td>0.267419</td>\n",
       "      <td>-0.118834</td>\n",
       "    </tr>\n",
       "    <tr>\n",
       "      <th>floor</th>\n",
       "      <td>0.130960</td>\n",
       "      <td>0.152165</td>\n",
       "      <td>0.267419</td>\n",
       "      <td>1.000000</td>\n",
       "      <td>0.175151</td>\n",
       "    </tr>\n",
       "    <tr>\n",
       "      <th>price</th>\n",
       "      <td>0.981324</td>\n",
       "      <td>0.859441</td>\n",
       "      <td>-0.118834</td>\n",
       "      <td>0.175151</td>\n",
       "      <td>1.000000</td>\n",
       "    </tr>\n",
       "  </tbody>\n",
       "</table>\n",
       "</div>"
      ],
      "text/plain": [
       "                bhk  area_sqft  year_old     floor     price\n",
       "bhk        1.000000   0.831142 -0.125670  0.130960  0.981324\n",
       "area_sqft  0.831142   1.000000  0.037635  0.152165  0.859441\n",
       "year_old  -0.125670   0.037635  1.000000  0.267419 -0.118834\n",
       "floor      0.130960   0.152165  0.267419  1.000000  0.175151\n",
       "price      0.981324   0.859441 -0.118834  0.175151  1.000000"
      ]
     },
     "execution_count": 5,
     "metadata": {},
     "output_type": "execute_result"
    }
   ],
   "source": [
    "# Correlation of a column with other columns\n",
    "data.corr() "
   ]
  },
  {
   "cell_type": "markdown",
   "metadata": {},
   "source": [
    "# checking Normality Univeriant , Multivariant"
   ]
  },
  {
   "cell_type": "code",
   "execution_count": 6,
   "metadata": {},
   "outputs": [
    {
     "name": "stderr",
     "output_type": "stream",
     "text": [
      "C:\\Users\\rakchh\\AppData\\Local\\Continuum\\anaconda3\\lib\\site-packages\\scipy\\stats\\stats.py:1713: FutureWarning: Using a non-tuple sequence for multidimensional indexing is deprecated; use `arr[tuple(seq)]` instead of `arr[seq]`. In the future this will be interpreted as an array index, `arr[np.array(seq)]`, which will result either in an error or a different result.\n",
      "  return np.add.reduce(sorted[indexer] * weights, axis=axis) / sumval\n"
     ]
    },
    {
     "name": "stdout",
     "output_type": "stream",
     "text": [
      "skewness of bhk:  -0.019331978387721778\n",
      "skewness of area_sqft:  0.1781625278913837\n",
      "skewness of year_old:  0.31266040873691126\n",
      "skewness of floor:  0.08295863603037812\n",
      "kurtosis of bhk:  -1.178438403433675\n",
      "kurtosis of area_sqft:  -0.9678590948985248\n",
      "kurtosis of year_old:  -0.9251806743106461\n",
      "kurtosis of floor:  -1.3275507272716613\n"
     ]
    },
    {
     "data": {
      "image/png": "[encoded data removed]",
      "text/plain": [
       "<Figure size 432x288 with 1 Axes>"
      ]
     },
     "metadata": {
      "needs_background": "light"
     },
     "output_type": "display_data"
    }
   ],
   "source": [
    "# Checking the Skewness(Tirchapan) and Kurtosis(Height of the graph) \n",
    "# Skewness (s) should be -1.96 < skewness < 1.96\n",
    "# Kurtosis near to Zero is very good\n",
    "\n",
    "%matplotlib inline\n",
    "sb.distplot(data.area_sqft)\n",
    "\n",
    "print('skewness of bhk: ',sp.stats.skew(data.bhk))\n",
    "print('skewness of area_sqft: ',sp.stats.skew(data.area_sqft))\n",
    "print('skewness of year_old: ',sp.stats.skew(data.year_old))\n",
    "print('skewness of floor: ',sp.stats.skew(data.floor))\n",
    "\n",
    "print('kurtosis of bhk: ',sp.stats.kurtosis(data.bhk))\n",
    "print('kurtosis of area_sqft: ',sp.stats.kurtosis(data.area_sqft))\n",
    "print('kurtosis of year_old: ',sp.stats.kurtosis(data.year_old))\n",
    "print('kurtosis of floor: ',sp.stats.kurtosis(data.floor))"
   ]
  },
  {
   "cell_type": "code",
   "execution_count": null,
   "metadata": {},
   "outputs": [],
   "source": []
  },
  {
   "cell_type": "markdown",
   "metadata": {},
   "source": [
    "### Devide the columns in variables(X), and target variable(y)"
   ]
  },
  {
   "cell_type": "code",
   "execution_count": 7,
   "metadata": {},
   "outputs": [],
   "source": [
    "# loc(rows-filter,column-filter)\n",
    "# X (capital X) is Independent(predictive) variable, \n",
    "# which depend on x1(means col1) + x2(menas col2) + x3(means col3) + x4(means col4) + ....\n",
    "# y is Dependent(Target Veriable)variable, so its small y\n",
    "\n",
    "X = data.loc[:,['bhk','area_sqft','year_old','floor']]\n",
    "y = data.loc[:,['price']]\n",
    "# y= data.price"
   ]
  },
  {
   "cell_type": "code",
   "execution_count": 8,
   "metadata": {},
   "outputs": [
    {
     "name": "stdout",
     "output_type": "stream",
     "text": [
      "(40, 4)\n",
      "(40, 1)\n"
     ]
    }
   ],
   "source": [
    "# show (rows, columns)\n",
    "\n",
    "print(X.shape)\n",
    "print(y.shape)"
   ]
  },
  {
   "cell_type": "code",
   "execution_count": 9,
   "metadata": {},
   "outputs": [
    {
     "data": {
      "text/html": [
       "<div>\n",
       "<style scoped>\n",
       "    .dataframe tbody tr th:only-of-type {\n",
       "        vertical-align: middle;\n",
       "    }\n",
       "\n",
       "    .dataframe tbody tr th {\n",
       "        vertical-align: top;\n",
       "    }\n",
       "\n",
       "    .dataframe thead th {\n",
       "        text-align: right;\n",
       "    }\n",
       "</style>\n",
       "<table border=\"1\" class=\"dataframe\">\n",
       "  <thead>\n",
       "    <tr style=\"text-align: right;\">\n",
       "      <th></th>\n",
       "      <th>bhk</th>\n",
       "      <th>area_sqft</th>\n",
       "      <th>year_old</th>\n",
       "      <th>floor</th>\n",
       "    </tr>\n",
       "  </thead>\n",
       "  <tbody>\n",
       "    <tr>\n",
       "      <th>0</th>\n",
       "      <td>1.0</td>\n",
       "      <td>500</td>\n",
       "      <td>1</td>\n",
       "      <td>1</td>\n",
       "    </tr>\n",
       "    <tr>\n",
       "      <th>1</th>\n",
       "      <td>1.0</td>\n",
       "      <td>500</td>\n",
       "      <td>1</td>\n",
       "      <td>5</td>\n",
       "    </tr>\n",
       "    <tr>\n",
       "      <th>2</th>\n",
       "      <td>1.0</td>\n",
       "      <td>500</td>\n",
       "      <td>1</td>\n",
       "      <td>10</td>\n",
       "    </tr>\n",
       "    <tr>\n",
       "      <th>3</th>\n",
       "      <td>1.0</td>\n",
       "      <td>550</td>\n",
       "      <td>5</td>\n",
       "      <td>3</td>\n",
       "    </tr>\n",
       "    <tr>\n",
       "      <th>4</th>\n",
       "      <td>1.0</td>\n",
       "      <td>550</td>\n",
       "      <td>5</td>\n",
       "      <td>10</td>\n",
       "    </tr>\n",
       "  </tbody>\n",
       "</table>\n",
       "</div>"
      ],
      "text/plain": [
       "   bhk  area_sqft  year_old  floor\n",
       "0  1.0        500         1      1\n",
       "1  1.0        500         1      5\n",
       "2  1.0        500         1     10\n",
       "3  1.0        550         5      3\n",
       "4  1.0        550         5     10"
      ]
     },
     "execution_count": 9,
     "metadata": {},
     "output_type": "execute_result"
    }
   ],
   "source": [
    "X.head()"
   ]
  },
  {
   "cell_type": "code",
   "execution_count": 10,
   "metadata": {},
   "outputs": [
    {
     "data": {
      "text/html": [
       "<div>\n",
       "<style scoped>\n",
       "    .dataframe tbody tr th:only-of-type {\n",
       "        vertical-align: middle;\n",
       "    }\n",
       "\n",
       "    .dataframe tbody tr th {\n",
       "        vertical-align: top;\n",
       "    }\n",
       "\n",
       "    .dataframe thead th {\n",
       "        text-align: right;\n",
       "    }\n",
       "</style>\n",
       "<table border=\"1\" class=\"dataframe\">\n",
       "  <thead>\n",
       "    <tr style=\"text-align: right;\">\n",
       "      <th></th>\n",
       "      <th>price</th>\n",
       "    </tr>\n",
       "  </thead>\n",
       "  <tbody>\n",
       "    <tr>\n",
       "      <th>0</th>\n",
       "      <td>500000</td>\n",
       "    </tr>\n",
       "    <tr>\n",
       "      <th>1</th>\n",
       "      <td>505000</td>\n",
       "    </tr>\n",
       "    <tr>\n",
       "      <th>2</th>\n",
       "      <td>500000</td>\n",
       "    </tr>\n",
       "    <tr>\n",
       "      <th>3</th>\n",
       "      <td>550000</td>\n",
       "    </tr>\n",
       "    <tr>\n",
       "      <th>4</th>\n",
       "      <td>555000</td>\n",
       "    </tr>\n",
       "  </tbody>\n",
       "</table>\n",
       "</div>"
      ],
      "text/plain": [
       "    price\n",
       "0  500000\n",
       "1  505000\n",
       "2  500000\n",
       "3  550000\n",
       "4  555000"
      ]
     },
     "execution_count": 10,
     "metadata": {},
     "output_type": "execute_result"
    }
   ],
   "source": [
    "y.head()"
   ]
  },
  {
   "cell_type": "markdown",
   "metadata": {},
   "source": [
    "### Split the available data in 70% and 30% for Trainning and Testing model "
   ]
  },
  {
   "cell_type": "code",
   "execution_count": 11,
   "metadata": {},
   "outputs": [],
   "source": [
    "from sklearn.model_selection import train_test_split"
   ]
  },
  {
   "cell_type": "code",
   "execution_count": 12,
   "metadata": {},
   "outputs": [],
   "source": [
    "# X_train, X_test, y_train, y_test = train_test_split(X, y)\n",
    "# random_state can be 2 ,4 10 14.. anything, it suffel and take rows\n",
    "# train_test_split(X, y, test_size = size_need_to_take_for_testData, random_state = count_for_rendon_value)\n",
    "\n",
    "X_train, X_test, y_train, y_test = train_test_split(X, y, test_size = 0.15, random_state = 1) "
   ]
  },
  {
   "cell_type": "code",
   "execution_count": 13,
   "metadata": {},
   "outputs": [
    {
     "name": "stdout",
     "output_type": "stream",
     "text": [
      "X train shape:  (34, 4)\n",
      "Y train shape:  (34, 1)\n",
      "X test shape:  (6, 4)\n",
      "y test shape:  (6, 1)\n",
      "\n",
      " X Train Data: \n",
      "     bhk  area_sqft  year_old  floor\n",
      "22  3.0       1050         5      4\n",
      "39  4.5       1000         1     10\n",
      "19  2.5        920         6     12\n",
      "26  3.5        910         6      4\n",
      "32  4.0       1000         4      6\n",
      "\n",
      " y Train Data: \n",
      "       price\n",
      "22   825000\n",
      "39  1000000\n",
      "19   750000\n",
      "26   820000\n",
      "32   920000\n",
      "\n",
      " X Test Data: \n",
      "     bhk  area_sqft  year_old  floor\n",
      "2   1.0        500         1     10\n",
      "31  4.0       1250         1      3\n",
      "3   1.0        550         5      3\n",
      "21  3.0       1000         3      3\n",
      "27  3.5       1100         4      7\n",
      "\n",
      " y Test Data: \n",
      "      price\n",
      "2   500000\n",
      "31  900000\n",
      "3   550000\n",
      "21  820000\n",
      "27  830000\n"
     ]
    }
   ],
   "source": [
    "print('X train shape: ',X_train.shape) # 70% data\n",
    "print('Y train shape: ',y_train.shape)  # 30% data\n",
    "\n",
    "print('X test shape: ',X_test.shape)\n",
    "print('y test shape: ',y_test.shape)\n",
    "\n",
    "print('\\n X Train Data: \\n',X_train.head())  # \\n means new line\n",
    "print('\\n y Train Data: \\n',y_train.head())\n",
    "\n",
    "print('\\n X Test Data: \\n',X_test.head())\n",
    "print('\\n y Test Data: \\n',y_test.head())"
   ]
  },
  {
   "cell_type": "markdown",
   "metadata": {},
   "source": [
    "### Train the model using the X_train and y_train data, \n",
    "### with the use of Simple Linear Regression Algorithm"
   ]
  },
  {
   "cell_type": "code",
   "execution_count": 14,
   "metadata": {},
   "outputs": [],
   "source": [
    "from sklearn.linear_model import LinearRegression"
   ]
  },
  {
   "cell_type": "code",
   "execution_count": 15,
   "metadata": {},
   "outputs": [
    {
     "data": {
      "text/plain": [
       "LinearRegression(copy_X=True, fit_intercept=True, n_jobs=1, normalize=False)"
      ]
     },
     "execution_count": 15,
     "metadata": {},
     "output_type": "execute_result"
    }
   ],
   "source": [
    "model_lr = LinearRegression()\n",
    "\n",
    "model_lr.fit(X_train, y_train)"
   ]
  },
  {
   "cell_type": "markdown",
   "metadata": {},
   "source": [
    "## get y_predict by passing X_test in trained model "
   ]
  },
  {
   "cell_type": "code",
   "execution_count": 16,
   "metadata": {},
   "outputs": [],
   "source": [
    "y_predict = model_lr.predict(X_test)"
   ]
  },
  {
   "cell_type": "code",
   "execution_count": 17,
   "metadata": {},
   "outputs": [
    {
     "name": "stdout",
     "output_type": "stream",
     "text": [
      "y_test:       price\n",
      "2   500000\n",
      "31  900000\n",
      "3   550000\n",
      "21  820000\n",
      "27  830000\n",
      "29  830000\n",
      "\n",
      " y_predict: \n",
      " [[516848.39957115]\n",
      " [937293.80286031]\n",
      " [492461.30214683]\n",
      " [785266.37235854]\n",
      " [863372.58155098]\n",
      " [857740.25769914]]\n"
     ]
    }
   ],
   "source": [
    "print('y_test: ',y_test.head(6))\n",
    "print('\\n y_predict: \\n', y_predict)"
   ]
  },
  {
   "cell_type": "markdown",
   "metadata": {},
   "source": [
    "# Get the score for y_test and y_predict"
   ]
  },
  {
   "cell_type": "code",
   "execution_count": 18,
   "metadata": {},
   "outputs": [
    {
     "data": {
      "text/plain": [
       "0.9430865215346602"
      ]
     },
     "execution_count": 18,
     "metadata": {},
     "output_type": "execute_result"
    }
   ],
   "source": [
    "from sklearn.metrics import r2_score\n",
    "\n",
    "r2_score(y_test, y_predict)\n",
    "\n",
    "# 0.9514648967247669\n",
    "# 0.95 % meand 66% changes of the prediction , \n",
    "# it should be more then 75 % to predict "
   ]
  },
  {
   "cell_type": "markdown",
   "metadata": {},
   "source": [
    "### Now predict any value using trained model by passing inputs"
   ]
  },
  {
   "cell_type": "code",
   "execution_count": 19,
   "metadata": {},
   "outputs": [
    {
     "data": {
      "text/plain": [
       "array([[630477.1467717]])"
      ]
     },
     "execution_count": 19,
     "metadata": {},
     "output_type": "execute_result"
    }
   ],
   "source": [
    "model_lr.predict([[2,600,2,5]])"
   ]
  },
  {
   "cell_type": "code",
   "execution_count": 20,
   "metadata": {},
   "outputs": [],
   "source": [
    "# predicted the price of 2-bhk , 15 sqft , 5 year old , 3 rd floor\n",
    "# 2014680 Rs"
   ]
  },
  {
   "cell_type": "code",
   "execution_count": null,
   "metadata": {},
   "outputs": [],
   "source": []
  }
 ],
 "metadata": {
  "kernelspec": {
   "display_name": "Python 3",
   "language": "python",
   "name": "python3"
  },
  "language_info": {
   "codemirror_mode": {
    "name": "ipython",
    "version": 3
   },
   "file_extension": ".py",
   "mimetype": "text/x-python",
   "name": "python",
   "nbconvert_exporter": "python",
   "pygments_lexer": "ipython3",
   "version": "3.7.0"
  }
 },
 "nbformat": 4,
 "nbformat_minor": 2
}
